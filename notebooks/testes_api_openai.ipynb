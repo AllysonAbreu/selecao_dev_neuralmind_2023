{
 "cells": [
  {
   "cell_type": "markdown",
   "metadata": {},
   "source": [
    "# Imports necessários"
   ]
  },
  {
   "cell_type": "code",
   "execution_count": 3,
   "metadata": {},
   "outputs": [],
   "source": [
    "import os\n",
    "from dotenv import load_dotenv\n",
    "import openai"
   ]
  },
  {
   "cell_type": "code",
   "execution_count": 5,
   "metadata": {},
   "outputs": [
    {
     "data": {
      "text/plain": [
       "<OpenAIObject at 0x1b8ff9fdc70> JSON: {\n",
       "  \"role\": \"assistant\",\n",
       "  \"content\": \"A data da primeira fase do vestibular da Unicamp 2024 ainda n\\u00e3o foi divulgada. Recomendo que voc\\u00ea fique atento aos comunicados oficiais da universidade ou acesse o site da Comvest, respons\\u00e1vel pela organiza\\u00e7\\u00e3o do processo seletivo, para obter informa\\u00e7\\u00f5es atualizadas sobre as datas do vestibular.\"\n",
       "}"
      ]
     },
     "execution_count": 5,
     "metadata": {},
     "output_type": "execute_result"
    }
   ],
   "source": [
    "load_dotenv()\n",
    "\n",
    "openai.api_key = os.environ[\"OPENAI_API_KEY\"]\n",
    "\n",
    "completion = openai.ChatCompletion.create(\n",
    "    model=\"gpt-3.5-turbo\",\n",
    "    messages=[\n",
    "        {\"role\": \"system\", \"content\": \"Você é um chatbot que responde a perguntas sobre o Vestibular da Unicamp.\"},\n",
    "        {\"role\": \"user\", \"content\": \"Qual é a data da primeira fase do vestibular da Unicamp 2024?\"},\n",
    "    ]\n",
    ")\n",
    "\n",
    "completion.choices[0].message"
   ]
  },
  {
   "cell_type": "code",
   "execution_count": null,
   "metadata": {},
   "outputs": [],
   "source": []
  }
 ],
 "metadata": {
  "kernelspec": {
   "display_name": "Python 3",
   "language": "python",
   "name": "python3"
  },
  "language_info": {
   "codemirror_mode": {
    "name": "ipython",
    "version": 3
   },
   "file_extension": ".py",
   "mimetype": "text/x-python",
   "name": "python",
   "nbconvert_exporter": "python",
   "pygments_lexer": "ipython3",
   "version": "3.11.4"
  }
 },
 "nbformat": 4,
 "nbformat_minor": 2
}
